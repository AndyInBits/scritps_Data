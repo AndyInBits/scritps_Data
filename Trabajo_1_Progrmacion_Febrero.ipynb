{
  "nbformat": 4,
  "nbformat_minor": 0,
  "metadata": {
    "colab": {
      "name": "Trabajo_1_Progrmacion_Febrero.ipynb",
      "provenance": [],
      "collapsed_sections": [],
      "include_colab_link": true
    },
    "kernelspec": {
      "name": "python3",
      "display_name": "Python 3"
    }
  },
  "cells": [
    {
      "cell_type": "markdown",
      "metadata": {
        "id": "view-in-github",
        "colab_type": "text"
      },
      "source": [
        "<a href=\"https://colab.research.google.com/github/Anfevazu/scritps_Data/blob/master/Trabajo_1_Progrmacion_Febrero.ipynb\" target=\"_parent\"><img src=\"https://colab.research.google.com/assets/colab-badge.svg\" alt=\"Open In Colab\"/></a>"
      ]
    },
    {
      "cell_type": "markdown",
      "metadata": {
        "id": "TyZJFWxQNDsg",
        "colab_type": "text"
      },
      "source": [
        "# **TRABAJO 1, PRIMER CORTE**\n",
        ">>**Maestría en Analítica de Datos**\n",
        "\n",
        ">>**Facultad de Ingeniería y Ciencias Básicas.**\n",
        "\n",
        ">>**Universidad Central  2020 - I**\n",
        "\n",
        "\n",
        "> >*ANDRES FELIPE VASQUEZ*\n",
        "\n",
        "> >*GUSTAVO ADOLFO DIAZ*\n",
        "\n",
        ">**Descripción del problema a resolver :**\n",
        "\n",
        "> > <p style='text-align: justify;'> Se requiere un programa en python que devuelva el valor aproximado de la integral (área\n",
        "bajo la curva) de una función matemática en un intervalo dado entre dos valores xInicial y\n",
        "xFinal. Las funciones que se deben ofrecer son: </p> \n",
        "\n",
        "> - **seno**\n",
        "> - **coseno**\n",
        "> - **tangente**\n",
        "> -**exponencial** \n",
        "\n",
        "> > <p style='text-align: justify'> Cada función matemática se debe calcular mediante una función de python usando las\n",
        "series de Taylor. Para calcular el valor aproximado de la integral en el intervalo (xInicial,\n",
        "xFinal) se debe dividir el intervalo en una cantidad de rectángulos de igual ancho, esta\n",
        "cantidad se debe dar como parámetro. <br><br>\n",
        "Cada rectángulo tiene un ancho fijo y una altura que\n",
        "depende del valor de la función matemática. Luego, se suma el área de todos los\n",
        "rectángulos y ese es el valor que corresponde a la integral. Además se requiere una\n",
        "función para calcular el factorial. </p> \n",
        "\n",
        "\n",
        ">---\n",
        "\n",
        "\n"
      ]
    },
    {
      "cell_type": "markdown",
      "metadata": {
        "id": "-UQkW6EvaHTM",
        "colab_type": "text"
      },
      "source": [
        "## 1. Definiciones \n",
        "\n",
        "* __Serie de Taylor__: En matemáticas, una serie de Taylor es una aproximación de funciones mediante una serie de potencias o suma de potencias enteras de polinomios como :  $\\left ( x - a \\right )^{n} $, llamados términos de la serie, dicha suma se calcula a partir de las derivadas de la función para un determinado valor o punto $a$ suficientemente derivable sobre la función y un entorno sobre el cual converja la serie. A la serie centrada sobre el punto cero, $a=0$, se le denomina también serie de Maclaurin. <br> Esta aproximación tiene tres ventajas importantes: <br>\n",
        "la derivación e integración de una de estas series se puede realizar término a término, que resultan operaciones triviales;\n",
        "se puede utilizar para calcular valores aproximados de funciones;\n",
        "es posible calcular la optimidad de la aproximación. <br>\n",
        "Algunas funciones no se pueden escribir como serie de Taylor porque tienen alguna singularidad. En estos casos normalmente se puede conseguir un desarrollo en serie utilizando potencias negativas de x (véase Serie de Laurent). Por ejemplo $f(x) = exp(\\frac{1}{x^{2}})$ se puede desarrollar como serie de Laurent. <br>\n",
        "La serie de Taylor de una función f real o compleja ƒ(x) infinitamente diferenciable en el entorno de un número real o complejo a es la siguiente serie de potencias:\n",
        "<br><br> \n",
        "$f(a)+\\frac{f'(a)}{1!}(x-a)+\\frac{f''(a)}{2!}(x-a)^2+\\frac{f^{(3)}(a)}{3!}(x-a)^3+\\cdots$ <br><br>\n",
        "[Series de Taylor](https://es.wikipedia.org/wiki/Serie_de_Taylor)\n",
        "\n",
        "---\n",
        "\n"
      ]
    },
    {
      "cell_type": "markdown",
      "metadata": {
        "id": "WiE9bJ9IyHR-",
        "colab_type": "text"
      },
      "source": [
        "- **Codigo Python para esta funcion** : \n",
        "```python\n",
        "# Calcular Integral como la Sumatoria del Area bajo la Curva.\n",
        "def calculate_integral(x_initial, x_final, function=4, interval=20):\n",
        "    \"\"\" Funcion para el calculo del area de un area bajo la curva usando Series de Taylor\n",
        "\n",
        "    argumentos : \n",
        "    x_initial : float - Valor inicial del intervalo dado por el usuario.\n",
        "    x_final : float - Valor final del intervalo dado por el usuario.\n",
        "    function : int - Tipo de funcion a evaluar : \n",
        "    1 = Seno\n",
        "    2 = Coseno\n",
        "    3 = Tangente\n",
        "    4 = Exponencial\n",
        "    Por defecto el valor inicial es 4 = Exponencial.\n",
        "    interval : int - parametro para la cantidad de rectangulos en los cuales se divide el intervalo, por defecto es 20.\n",
        "    \n",
        "    Valores de Retorno\n",
        "    -------\n",
        "    resultado del calculo del area segun la opcion seleccionada, el area se calcula\n",
        "    restando el area del intervalo final, menos el area del intervalo inicial.\n",
        "\n",
        "    Valores de Error\n",
        "    -------\n",
        "    Si los datos de entrada son del tipo string se genera un mensaje de error.\n",
        "    NO se permiten valores de texto para realizar los calculos\n",
        "    \"\"\"\n",
        "   \n",
        "    if type(x_initial) is str or type(x_final) is str or type(function) is str or type(interval) is str : \n",
        "        print(\"NO se permiten valores de texto para realizar los calculos\")\n",
        "        return \"Error\"\n",
        "\n",
        "    if function == 1:\n",
        "        area = calculate_taylor_sen_x(x_final, interval) - calculate_taylor_sen_x(x_initial, interval)\n",
        "        print(\"El area bajo la curva para la funtion seno(x) para los puntos : \", \"Xo=\",x_initial ,\",\", \"X1=\",x_final, \" es igual a : \", abs(area))\n",
        "        x, y = graficate_sin(x_initial, x_final)\n",
        "        return abs(area)\n",
        "    elif function == 2:\n",
        "        area = calculate_taylor_cos_x(x_final, interval) - calculate_taylor_cos_x(x_initial, interval)\n",
        "        print(\"El area bajo la curva para la funtion cos(x) para los puntos : \", \"Xo=\",x_initial ,\",\", \"X1=\",x_final, \" es igual a : \", abs(area))\n",
        "        graficate_cos(x_initial, x_final)\n",
        "        return abs(area)\n",
        "    elif function == 3:\n",
        "        area = calculate_taylor_tan_x(x_final, interval) - calculate_taylor_tan_x(x_initial, interval)\n",
        "        print(\"El area bajo la curva para la funtion tan(x) para los puntos : \", \"Xo=\",x_initial ,\",\", \"X1=\",x_final, \" es igual a : \", abs(area))\n",
        "        graficate_tan(x_initial, x_final)\n",
        "        return abs(area)\n",
        "    else :\n",
        "        area = funtion_exponential(x_final, interval) - funtion_exponential(x_initial, interval)\n",
        "        print(\"El area bajo la curva para la funtion tan(x) para los puntos : \", \"Xo=\",x_initial ,\",\", \"X1=\",x_final, \" es igual a : \", abs(area))\n",
        "        graficate_exp(x_initial, x_final)\n",
        "        return abs(area)\n",
        "    \n",
        "    ```\n",
        "***\n",
        "\n"
      ]
    },
    {
      "cell_type": "markdown",
      "metadata": {
        "id": "AOfIRM-ld7vV",
        "colab_type": "text"
      },
      "source": [
        "* __Series de Maclaurin notables__: A continuación se enumeran algunas series de Taylor de funciones básicas. Todos los desarrollos son también válidos para valores complejos de x.\n",
        "[Series de Maclaurin notables](https://es.wikipedia.org/wiki/Serie_de_Taylor#Series_de_Maclaurin_notables)\n",
        "\n",
        "1. **Función exponencial:** <br>\n",
        "$ e^{x} = \\sum^{\\infty}_{n=0} \\frac{x^n}{n!}\\quad, \\forall x; n \\in \\mathbb{N}_0$\n",
        "\n",
        "- **Codigo Python para esta funcion** : \n",
        "\n",
        "```python\n",
        "# Calculo area bajo la curva de una funcion exponencial \n",
        "def funtion_exponential(point, interval):\n",
        "    \"\"\"\n",
        "    Funcion para calcular el area bajo la curva de una funcion exponencial.\n",
        "\n",
        "    Argumentos\n",
        "    ----------\n",
        "    point : float - Valor de Xo en un punto dado.\n",
        "    interval : int - Numero de intervalos a evaluar bajo la curva.\n",
        "    \n",
        "    Valores de Retorno\n",
        "    -------\n",
        "    suma : float - Area bajo la curva en el intervalo dado.\n",
        "    \"\"\"\n",
        "    suma = 0\n",
        "    for i in range(interval):\n",
        "        suma += calculate_exponential(point,i)\n",
        "    return suma\n",
        "\n",
        "def calculate_exponential(point, point_interval):\n",
        "    \"\"\"\n",
        "    Funcion para la sumatoria para el calculo de un punto especifico del intervalo\n",
        "\n",
        "    argumentos : \n",
        "    point : float - Valor de Xo en un punto dado.\n",
        "    point_interval : int - valor del intervalo a evaluar en la funcion exponencial.\n",
        "    \n",
        "    Valores de Retorno\n",
        "    -------\n",
        "    int - valor de la funcion exponencial.\n",
        "    \"\"\"\n",
        "    return (point ** point_interval) / factorial(point_interval)\n",
        "```\n",
        "\n",
        "***\n"
      ]
    },
    {
      "cell_type": "markdown",
      "metadata": {
        "id": "E-XEyr4Avio9",
        "colab_type": "text"
      },
      "source": [
        "2. **Función Seno:** <br>\n",
        "$\\sin x = \\sum \\frac{(-1)^{n}}{(2n+1)!}x^{2n+1}$\n",
        "- **Codigo Python para esta funcion** : \n",
        "\n",
        "```python\n",
        "# Calcular Area bajo la curva usando la funcion seno en series de Taylor\n",
        "def calculate_taylor_sen_x(point, interval):\n",
        "    \"\"\"\n",
        "    Funcion para calcular el area bajo la curva de una funcion seno.\n",
        "    \n",
        "    Argumentos\n",
        "    ----------\n",
        "    point : float - Valor de Xo en un punto dado.\n",
        "    interval : int - Numero de intervalos a evaluar bajo la curva.\n",
        "    \n",
        "    Valores de Retorno\n",
        "    -------\n",
        "    suma : float - Area bajo la curva en el intervalo dado.\n",
        "    \"\"\"\n",
        "    suma = 0\n",
        "    for i in range(interval):\n",
        "        suma += taylor_sin_x(point,i)\n",
        "    return suma\n",
        "\n",
        "def taylor_sin_x(point, point_interval):\n",
        "    \"\"\"\n",
        "    Funcion para el Desarrollo de la Serie de Taylor del Seno de X.\n",
        "    Devuelve el desarrollo de la serie de taylor para n en un punto del Intervalo.\n",
        "\n",
        "    Argumentos\n",
        "    ----------\n",
        "    point : float - Valor de Xo en un punto dado\n",
        "        \n",
        "    point_interval : int - Valor del intervalo a evaluar\n",
        "    \n",
        "    Valores de Retorno\n",
        "    -------\n",
        "    float - Retorna el valor del area en el intervalo dado\n",
        "    \"\"\"\n",
        "    numerator = ((-1)**(point_interval)) * (point**((2*point_interval)+1))\n",
        "    denominator = factorial((2*point_interval)+1)\n",
        "\n",
        "    return numerator / denominator\n",
        "```\n",
        "\n",
        "***"
      ]
    },
    {
      "cell_type": "markdown",
      "metadata": {
        "id": "F2mhgPMP74i9",
        "colab_type": "text"
      },
      "source": [
        "3. **Función Coseno:** <br>\n",
        "$\\cos x = \\sum \\frac{(-1)^{n}}{(2n)!}x^{2n}$\n",
        "- **Codigo Python para esta funcion** : \n",
        "\n",
        "```python\n",
        "# Calcular Area bajo la curva usando la funcion coseno en series de Taylor\n",
        "def calculate_taylor_cos_x(point, interval):\n",
        "    \"\"\"\n",
        "    Funcion para calcular el area bajo la curva de una funcion coseno.\n",
        " \n",
        "    Argumentos\n",
        "    ----------\n",
        "    point : float - Valor de Xo en un punto dado.\n",
        "    interval : int - Numero de intervalos a evaluar bajo la curva.\n",
        " \n",
        "    Valores de Retorno\n",
        "    -------\n",
        "    suma : float - Area bajo la curva en el intervalo dado.\n",
        "    \"\"\"\n",
        "    suma = 0\n",
        "    for i in range(interval):\n",
        "        suma += taylor_cos_x(point,i)\n",
        "    return suma\n",
        "\n",
        "def taylor_cos_x(point, point_interval):\n",
        "    \"\"\"\n",
        "    Funcion para el Desarrollo de la Serie de Taylor del Coseno de X.\n",
        "    Devuelve el desarrollo de la serie de taylor para n en un punto del Intervalo.\n",
        " \n",
        "    Argumentos\n",
        "    ----------\n",
        "    point : float - Valor de Xo en un punto dado\n",
        "    point_interval : int - Valor del intervalo a evaluar\n",
        " \n",
        "    Valores de Retorno\n",
        "    -------\n",
        "    float - Retorna el valor del area en el intervalo dado\n",
        "    \"\"\"\n",
        "    numerator = ((-1)**(point_interval)) * (point**(2*point_interval))\n",
        "    denominator = factorial(2*point_interval) \n",
        "\n",
        "    return numerator / denominator\n",
        "```\n",
        "\n",
        "***\n",
        "\n",
        "\n"
      ]
    },
    {
      "cell_type": "markdown",
      "metadata": {
        "id": "sPsRnK_w9Dmg",
        "colab_type": "text"
      },
      "source": [
        "4. **Función Tangente:** <br>\n",
        "$\\tan x = \\sum \\frac{B_{2n}(-4)^{n}(1-4^{n})}{2n!}x^{2n-1} $\n",
        "- **Codigo Python para esta funcion** : \n",
        "\n",
        "```python\n",
        "# Calcular Area bajo la curva usando la funcion Tangente en series de Taylor\n",
        "def calculate_taylor_tan_x(point, interval):\n",
        "    \"\"\"\n",
        "    Funcion para calcular el area bajo la curva de una funcion tangente.\n",
        " \n",
        "    Argumentos\n",
        "    ----------\n",
        "    point : float - Valor de Xo en un punto dado.\n",
        "    interval : int - Numero de intervalos a evaluar bajo la curva.\n",
        " \n",
        "    Valores de Retorno\n",
        "    -------\n",
        "    suma : float - Area bajo la curva en el intervalo dado.\n",
        "    \"\"\"\n",
        "    suma = 0\n",
        "    for i in range(interval):\n",
        "        suma += taylor_tan_x(point,i)\n",
        "    return suma\n",
        "\n",
        "def taylor_tan_x(point, point_interval):\n",
        "     \"\"\"\n",
        "    Funcion para el Desarrollo de la Serie de Taylor del tangente de X.\n",
        "    Devuelve el desarrollo de la serie de taylor para n en un punto del Intervalo.\n",
        " \n",
        "    Argumentos\n",
        "    ----------\n",
        "    point : float - Valor de Xo en un punto dado\n",
        "    point_interval : int - Valor del intervalo a evaluar\n",
        " \n",
        "    Valores de Retorno\n",
        "    -------\n",
        "    float - Retorna el valor del area en el intervalo dado\n",
        "    \"\"\"\n",
        "    numerator = (calculate_bernoulli_number(point_interval * 2) * ((-4)** point_interval) * (1- 4** point_interval)) * (point ** (( 2 * point_interval) - 1))\n",
        "    denominator = factorial(2*point_interval)\n",
        "\n",
        "    return numerator / denominator\n",
        "\n",
        "# Funcion para calcular numero de Bernoulli\n",
        "def calculate_bernoulli_number(number):\n",
        "    \"\"\"\n",
        "    Argumentos\n",
        "    ----------\n",
        "    number : int - numero para el cual deseamos calcular el valor de Bernoulli \n",
        "\n",
        "    Valores de Retorno\n",
        "    ------\n",
        "    float - numero de bernoulli\n",
        "    \"\"\"\n",
        "    EULER = 2.7182818284590455    \n",
        "    return abs(number) / (EULER ** abs(number))\n",
        "```\n",
        "\n",
        "***\n",
        "\n",
        "\n"
      ]
    },
    {
      "cell_type": "markdown",
      "metadata": {
        "id": "HirqDal2-bHp",
        "colab_type": "text"
      },
      "source": [
        "4. **Función Factorial :** <br>\n",
        "El factorial de un entero positivo n, el factorial de n o n factorial se define en principio como el producto de todos los números enteros positivos desde 1 (es decir, los números naturales) hasta n. Por ejemplo:\n",
        "${\\ 5!=1\\times 2\\times 3\\times 4\\times 5=120.\\ }5! = 1  \\times  2  \\times 3 \\times  4 \\times  5= 120.  \\ $ <br> [Factorial](https://es.wikipedia.org/wiki/Factorial)\n",
        "- **Codigo Python para esta funcion** : \n",
        "\n",
        "\n",
        "```python\n",
        "# Funcion para calcular el factorial de un numero (n) dado, usando el concepto de recursividad\n",
        "def factorial(number):\n",
        "    \"\"\"\n",
        "    Funcion para el calculo del Factorial de un numero dado\n",
        "\n",
        "    Argumentos\n",
        "    ----------\n",
        "    number : int - numero entero para calculo del factorial\n",
        "    \"\"\"\n",
        "    if number <= 1: \n",
        "        return 1 \n",
        "    else:\n",
        "        return number * factorial(number-1)\n",
        "```\n",
        "***\n"
      ]
    },
    {
      "cell_type": "markdown",
      "metadata": {
        "id": "UmqvON5b_3f1",
        "colab_type": "text"
      },
      "source": [
        "# SOLUCION COMPLETA DEL PROBLEMA PROPUESTO \n"
      ]
    },
    {
      "cell_type": "code",
      "metadata": {
        "id": "652LQ7VPACvC",
        "colab_type": "code",
        "colab": {}
      },
      "source": [
        "#-----------------------------------------------------------------------------------------------------------------------\n",
        "# Librerias para graficar las funciones \n",
        "\n",
        "import matplotlib.pyplot as plt\n",
        "import numpy as np\n",
        "\n",
        "# funcion que grafica la funcion seno \n",
        "def graficate_sin(xInicial, xFinal):\n",
        "    plt.plot(np.linspace(xInicial, xFinal), np.sin(np.linspace(xInicial, xFinal)))\n",
        "    return np.linspace(xInicial, xFinal), np.sin(np.linspace(xInicial, xFinal))\n",
        "\n",
        "# funcion que grafica la funcion coseno\n",
        "def graficate_cos(xInicial, xFinal):\n",
        "    plt.plot(np.linspace(xInicial, xFinal), np.cos(np.linspace(xInicial, xFinal)))\n",
        "    return np.linspace(xInicial, xFinal), np.cos(np.linspace(xInicial, xFinal))\n",
        "\n",
        "\n",
        "# funcion que grafica tangente \n",
        "def graficate_tan(xInicial, xFinal):\n",
        "    plt.plot(np.linspace(xInicial, xFinal), np.tan(np.linspace(xInicial, xFinal)))\n",
        "    return np.linspace(xInicial, xFinal), np.tan(np.linspace(xInicial, xFinal))\n",
        "\n",
        "\n",
        "# funcion que grafica exponential  \n",
        "def graficate_exp(xInicial, xFinal):\n",
        "    plt.plot(np.linspace(xInicial, xFinal), np.exp(np.linspace(xInicial, xFinal)))\n",
        "    return np.linspace(xInicial, xFinal), np.exp(np.linspace(xInicial, xFinal))\n",
        "#-----------------------------------------------------------------------------------------------------------------------\n",
        "\n",
        "\n",
        "# Calcular Integral como la Sumatoria del Area bajo la Curva.\n",
        "def calculate_integral(x_initial, x_final, function=4, interval=20):\n",
        "    \"\"\" Funcion para el calculo del area de un area bajo la curva usando Series de Taylor\n",
        "\n",
        "    argumentos : \n",
        "    x_initial : float - Valor inicial del intervalo dado por el usuario.\n",
        "    x_final : float - Valor final del intervalo dado por el usuario.\n",
        "    function : int - Tipo de funcion a evaluar : \n",
        "    1 = Seno\n",
        "    2 = Coseno\n",
        "    3 = Tangente\n",
        "    4 = Exponencial\n",
        "    Por defecto el valor inicial es 4 = Exponencial.\n",
        "    interval : int - parametro para la cantidad de rectangulos en los cuales se divide el intervalo, por defecto es 20.\n",
        "    \n",
        "    Valores de Retorno\n",
        "    -------\n",
        "    resultado del calculo del area segun la opcion seleccionada, el area se calcula\n",
        "    restando el area del intervalo final, menos el area del intervalo inicial.\n",
        "\n",
        "    Valores de Error\n",
        "    -------\n",
        "    Si los datos de entrada son del tipo string se genera un mensaje de error.\n",
        "    NO se permiten valores de texto para realizar los calculos\n",
        "    \"\"\"\n",
        "    if type(x_initial) is str or type(x_final) is str or type(function) is str or type(interval) is str : \n",
        "        print(\"NO se permiten valores de texto para realizar los calculos\")\n",
        "        return \"Error\"\n",
        "\n",
        "    # calculando integral de la funcion seno\n",
        "    if function == 1:\n",
        "        area = calculate_taylor_sen_x(x_final, interval) - calculate_taylor_sen_x(x_initial, interval)\n",
        "        print(\"El area bajo la curva para la funtion seno(x) para los puntos : \", \"Xo=\",x_initial ,\",\", \"X1=\",x_final, \" es igual a : \", abs(area))\n",
        "        x, y = graficate_sin(x_initial, x_final)\n",
        "        return abs(area)\n",
        "    elif function == 2:\n",
        "        area = calculate_taylor_cos_x(x_final, interval) - calculate_taylor_cos_x(x_initial, interval)\n",
        "        print(\"El area bajo la curva para la funtion cos(x) para los puntos : \", \"Xo=\",x_initial ,\",\", \"X1=\",x_final, \" es igual a : \", abs(area))\n",
        "        graficate_cos(x_initial, x_final)\n",
        "        return abs(area)\n",
        "    elif function == 3:\n",
        "        area = calculate_taylor_tan_x(x_final, interval) - calculate_taylor_tan_x(x_initial, interval)\n",
        "        print(\"El area bajo la curva para la funtion tan(x) para los puntos : \", \"Xo=\",x_initial ,\",\", \"X1=\",x_final, \" es igual a : \", abs(area))\n",
        "        graficate_tan(x_initial, x_final)\n",
        "        return abs(area)\n",
        "    else :\n",
        "        area = funtion_exponential(x_final, interval) - funtion_exponential(x_initial, interval)\n",
        "        print(\"El area bajo la curva para la funtion tan(x) para los puntos : \", \"Xo=\",x_initial ,\",\", \"X1=\",x_final, \" es igual a : \", abs(area))\n",
        "        graficate_exp(x_initial, x_final)\n",
        "        return abs(area)\n",
        "    \n",
        "#-----------------------------------------------------------------------------------------------------------------------\n",
        "\n",
        "\n",
        "# Calcular Area bajo la curva usando la funcion seno en series de Taylor\n",
        "def calculate_taylor_sen_x(point, interval):\n",
        "    \"\"\"\n",
        "    Funcion para calcular el area bajo la curva de una funcion seno.\n",
        "    \n",
        "    Argumentos\n",
        "    ----------\n",
        "    point : float - Valor de Xo en un punto dado.\n",
        "    interval : int - Numero de intervalos a evaluar bajo la curva.\n",
        "    \n",
        "    Valores de Retorno\n",
        "    -------\n",
        "    suma : float - Area bajo la curva en el intervalo dado.\n",
        "    \"\"\"\n",
        "    suma = 0\n",
        "    for i in range(interval):\n",
        "        suma += taylor_sin_x(point,i)\n",
        "    return suma\n",
        "\n",
        "def taylor_sin_x(point, point_interval):\n",
        "    \"\"\"\n",
        "    Funcion para el Desarrollo de la Serie de Taylor del Seno de X.\n",
        "    Devuelve el desarrollo de la serie de taylor para n en un punto del Intervalo.\n",
        "\n",
        "    Argumentos\n",
        "    ----------\n",
        "    point : float - Valor de Xo en un punto dado\n",
        "        \n",
        "    point_interval : int - Valor del intervalo a evaluar\n",
        "    \n",
        "    Valores de Retorno\n",
        "    -------\n",
        "    float - Retorna el valor del area en el intervalo dado\n",
        "    \"\"\"\n",
        "    numerator = ((-1)**(point_interval)) * (point**((2*point_interval)+1))\n",
        "    denominator = factorial((2*point_interval)+1)\n",
        "\n",
        "    return numerator / denominator\n",
        "\n",
        "#-----------------------------------------------------------------------------------------------------------------------\n",
        "\n",
        "\n",
        "# Calcular Area bajo la curva usando la funcion coseno en series de Taylor\n",
        "def calculate_taylor_cos_x(point, interval):\n",
        "    \"\"\"\n",
        "    Funcion para calcular el area bajo la curva de una funcion coseno.\n",
        " \n",
        "    Argumentos\n",
        "    ----------\n",
        "    point : float - Valor de Xo en un punto dado.\n",
        "    interval : int - Numero de intervalos a evaluar bajo la curva.\n",
        " \n",
        "    Valores de Retorno\n",
        "    -------\n",
        "    suma : float - Area bajo la curva en el intervalo dado.\n",
        "    \"\"\"\n",
        "    suma = 0\n",
        "    for i in range(interval):\n",
        "        suma += taylor_cos_x(point,i)\n",
        "    return suma\n",
        "\n",
        "def taylor_cos_x(point, point_interval):\n",
        "    \"\"\"\n",
        "    Funcion para el Desarrollo de la Serie de Taylor del Coseno de X.\n",
        "    Devuelve el desarrollo de la serie de taylor para n en un punto del Intervalo.\n",
        " \n",
        "    Argumentos\n",
        "    ----------\n",
        "    point : float - Valor de Xo en un punto dado\n",
        "    point_interval : int - Valor del intervalo a evaluar\n",
        " \n",
        "    Valores de Retorno\n",
        "    -------\n",
        "    float - Retorna el valor del area en el intervalo dado\n",
        "    \"\"\"\n",
        "    numerator = ((-1)**(point_interval)) * (point**(2*point_interval))\n",
        "    denominator = factorial(2*point_interval) \n",
        "\n",
        "    return numerator / denominator\n",
        "\n",
        "#-----------------------------------------------------------------------------------------------------------------------\n",
        "\n",
        "\n",
        "# Calcular Area bajo la curva usando la funcion Tangente en series de Taylor\n",
        "def calculate_taylor_tan_x(point, interval):\n",
        "    \"\"\"\n",
        "    Funcion para calcular el area bajo la curva de una funcion tangente.\n",
        " \n",
        "    Argumentos\n",
        "    ----------\n",
        "    point : float - Valor de Xo en un punto dado.\n",
        "    interval : int - Numero de intervalos a evaluar bajo la curva.\n",
        " \n",
        "    Valores de Retorno\n",
        "    -------\n",
        "    suma : float - Area bajo la curva en el intervalo dado.\n",
        "    \"\"\"\n",
        "    suma = 0\n",
        "    for i in range(interval):\n",
        "        suma += taylor_tan_x(point,i)\n",
        "    return suma\n",
        "\n",
        "def taylor_tan_x(point, point_interval):\n",
        "    \"\"\"\n",
        "    Funcion para el Desarrollo de la Serie de Taylor del tangente de X.\n",
        "    Devuelve el desarrollo de la serie de taylor para n en un punto del Intervalo.\n",
        "\n",
        "    Argumentos\n",
        "    ----------\n",
        "    point : float - Valor de Xo en un punto dado\n",
        "    point_interval : int - Valor del intervalo a evaluar\n",
        "\n",
        "    Valores de Retorno\n",
        "    -------\n",
        "    valor : float - Retorna el valor del area en el intervalo dado\n",
        "    \"\"\"\n",
        "    numerator = (calculate_bernoulli_number(point_interval * 2) * ((-4)** point_interval) * (1- 4** point_interval)) * (point ** (( 2 * point_interval) - 1))\n",
        "    denominator = factorial(2*point_interval)\n",
        "\n",
        "    return numerator / denominator\n",
        "\n",
        "# Funcion para calcular numero de Bernoulli\n",
        "def calculate_bernoulli_number(number):\n",
        "    \"\"\"\n",
        "    Argumentos\n",
        "    ----------\n",
        "    number : int - numero para el cual deseamos calcular el valor de Bernoulli \n",
        "\n",
        "    Valores de Retorno\n",
        "    ------\n",
        "    float - numero de bernoulli\n",
        "    \"\"\"\n",
        "    EULER = 2.7182818284590455    \n",
        "    return abs(number) / (EULER ** abs(number))\n",
        "#-----------------------------------------------------------------------------------------------------------------------\n",
        "\n",
        "\n",
        "# Calculo area bajo la curva de una funcion exponencial \n",
        "def funtion_exponential(point, interval):\n",
        "    \"\"\"\n",
        "    Funcion para calcular el area bajo la curva de una funcion exponencial.\n",
        "\n",
        "    Argumentos\n",
        "    ----------\n",
        "    point : float - Valor de Xo en un punto dado.\n",
        "    interval : int - Numero de intervalos a evaluar bajo la curva.\n",
        "    \n",
        "    Valores de Retorno\n",
        "    -------\n",
        "    suma : float - Area bajo la curva en el intervalo dado.\n",
        "    \"\"\"\n",
        "    suma = 0\n",
        "    for i in range(interval):\n",
        "        suma += calculate_exponential(point,i)\n",
        "    return suma\n",
        "\n",
        "def calculate_exponential(point, point_interval):\n",
        "    \"\"\"\n",
        "    Funcion para la sumatoria para el calculo de un punto especifico del intervalo\n",
        "\n",
        "    argumentos : \n",
        "    point : float - Valor de Xo en un punto dado.\n",
        "    point_interval : int - valor del intervalo a evaluar en la funcion exponencial.\n",
        "    \n",
        "    Valores de Retorno\n",
        "    -------\n",
        "    int - valor de la funcion exponencial.\n",
        "    \"\"\"\n",
        "    return (point ** point_interval) / factorial(point_interval)\n",
        "\n",
        "#-----------------------------------------------------------------------------------------------------------------------\n",
        "\n",
        "# Funcion para calcular el factorial de un numero (n) dado, usando el concepto de recursividad\n",
        "def factorial(number):\n",
        "    \"\"\"\n",
        "    Funcion para el calculo del Factorial de un numero dado\n",
        "\n",
        "    Argumentos\n",
        "    ----------\n",
        "    number : int - numero entero para calculo del factorial\n",
        "    \"\"\"\n",
        "    if number <= 1: \n",
        "        return 1 \n",
        "    else:\n",
        "        return number * factorial(number-1)"
      ],
      "execution_count": 0,
      "outputs": []
    },
    {
      "cell_type": "code",
      "metadata": {
        "id": "292eMVYgDku2",
        "colab_type": "code",
        "colab": {
          "base_uri": "https://localhost:8080/",
          "height": 299
        },
        "outputId": "5c35ec4a-946f-402e-b374-a3d34bea03be"
      },
      "source": [
        "\n",
        "\n",
        "# calcular area bajo la curva seno\n",
        "calculate_integral(-10, -1, 1, 15)\n"
      ],
      "execution_count": 52,
      "outputs": [
        {
          "output_type": "stream",
          "text": [
            "El area bajo la curva para la funtion seno(x) para los puntos :  Xo= -10 , X1= -1  es igual a :  1.3843821367719609\n"
          ],
          "name": "stdout"
        },
        {
          "output_type": "execute_result",
          "data": {
            "text/plain": [
              "1.3843821367719609"
            ]
          },
          "metadata": {
            "tags": []
          },
          "execution_count": 52
        },
        {
          "output_type": "display_data",
          "data": {
            "image/png": "[encoded data removed]",
            "text/plain": [
              "<Figure size 432x288 with 1 Axes>"
            ]
          },
          "metadata": {
            "tags": []
          }
        }
      ]
    },
    {
      "cell_type": "code",
      "metadata": {
        "id": "CKhjlH-wDnJa",
        "colab_type": "code",
        "colab": {
          "base_uri": "https://localhost:8080/",
          "height": 299
        },
        "outputId": "a9c2ef09-7e0a-4547-d8c5-ed2d9e0fa01e"
      },
      "source": [
        "# calcular area bajo la curva coseno\n",
        "calculate_integral(-10, 10.5, 2, 25)\n"
      ],
      "execution_count": 34,
      "outputs": [
        {
          "output_type": "stream",
          "text": [
            "El area bajo la curva para la funtion cos(x) para los puntos :  Xo= -10 , X1= 10.5  es igual a :  0.3635346010817143\n"
          ],
          "name": "stdout"
        },
        {
          "output_type": "execute_result",
          "data": {
            "text/plain": [
              "0.3635346010817143"
            ]
          },
          "metadata": {
            "tags": []
          },
          "execution_count": 34
        },
        {
          "output_type": "display_data",
          "data": {
            "image/png": "[encoded data removed]",
            "text/plain": [
              "<Figure size 432x288 with 1 Axes>"
            ]
          },
          "metadata": {
            "tags": []
          }
        }
      ]
    },
    {
      "cell_type": "code",
      "metadata": {
        "id": "tHUaYh51Do2Y",
        "colab_type": "code",
        "colab": {
          "base_uri": "https://localhost:8080/",
          "height": 299
        },
        "outputId": "f8707273-597e-41da-f3d9-f2866e491d0c"
      },
      "source": [
        "# calcular area bajo la curva tangente\n",
        "calculate_integral(-10, 1, 3, 15)\n"
      ],
      "execution_count": 35,
      "outputs": [
        {
          "output_type": "stream",
          "text": [
            "El area bajo la curva para la funtion tan(x) para los puntos :  Xo= -10 , X1= 1  es igual a :  983.6858324495405\n"
          ],
          "name": "stdout"
        },
        {
          "output_type": "execute_result",
          "data": {
            "text/plain": [
              "983.6858324495405"
            ]
          },
          "metadata": {
            "tags": []
          },
          "execution_count": 35
        },
        {
          "output_type": "display_data",
          "data": {
            "image/png": "[encoded data removed]",
            "text/plain": [
              "<Figure size 432x288 with 1 Axes>"
            ]
          },
          "metadata": {
            "tags": []
          }
        }
      ]
    },
    {
      "cell_type": "code",
      "metadata": {
        "id": "S_EJOt9PDqZt",
        "colab_type": "code",
        "colab": {
          "base_uri": "https://localhost:8080/",
          "height": 299
        },
        "outputId": "f67ff035-ddd1-4506-9959-46bde726320b"
      },
      "source": [
        "# calcular area bajo la curva exponencial\n",
        "calculate_integral(-1, 1, 4, 10)"
      ],
      "execution_count": 36,
      "outputs": [
        {
          "output_type": "stream",
          "text": [
            "El area bajo la curva para la funtion tan(x) para los puntos :  Xo= -1 , X1= 1  es igual a :  2.35040233686067\n"
          ],
          "name": "stdout"
        },
        {
          "output_type": "execute_result",
          "data": {
            "text/plain": [
              "2.35040233686067"
            ]
          },
          "metadata": {
            "tags": []
          },
          "execution_count": 36
        },
        {
          "output_type": "display_data",
          "data": {
            "image/png": "[encoded data removed]",
            "text/plain": [
              "<Figure size 432x288 with 1 Axes>"
            ]
          },
          "metadata": {
            "tags": []
          }
        }
      ]
    },
    {
      "cell_type": "code",
      "metadata": {
        "id": "6W5F3RkREVLQ",
        "colab_type": "code",
        "colab": {
          "base_uri": "https://localhost:8080/",
          "height": 34
        },
        "outputId": "75cab9b2-08bd-474b-9d13-ead17d5542cd"
      },
      "source": [
        "# calcular factorial de un numero dado\n",
        "from random import randint\n",
        "num = randint(0, 100)\n",
        "print(\"El factorial de :\", num, \"es igual a : \", factorial(num))"
      ],
      "execution_count": 27,
      "outputs": [
        {
          "output_type": "stream",
          "text": [
            "El factorial de : 73 es igual a :  4470115461512684340891257138125051110076800700282905015819080092370422104067183317016903680000000000000000\n"
          ],
          "name": "stdout"
        }
      ]
    }
  ]
}